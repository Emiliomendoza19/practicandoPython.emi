{
 "cells": [
  {
   "cell_type": "markdown",
   "metadata": {},
   "source": [
    "El condicional mas basico es la condicional if\n",
    "\n",
    "<img src=\"if.png\">\n",
    "\n",
    "Condicional= Decision\n",
    "\n",
    "En palabras sencillas es tomar una decision y saber que pasara si eliges por ejemplo entrar o no a clases "
   ]
  },
  {
   "cell_type": "markdown",
   "metadata": {},
   "source": [
    "1. Crea un diagrama en el que decidas si entras o no a clases <br>\n",
    "<img src=\"actemi.png\">"
   ]
  },
  {
   "cell_type": "markdown",
   "metadata": {},
   "source": [
    "2. Crea un programa que diga si debe de tomar coca-cola fria o no dependiendo de la temperatura, es decir, le preguntas si tiene calor, si la respuesta es si, debe de tomar coca-cola fria\n",
    "en caso de que no solo debe de tomar coca-cola\n"
   ]
  },
  {
   "cell_type": "code",
   "execution_count": 3,
   "metadata": {},
   "outputs": [
    {
     "name": "stdout",
     "output_type": "stream",
     "text": [
      "tienes calor?\n",
      "no,no tomes nada frio ni se te ocurra hecahrte una bien fria\n"
     ]
    }
   ],
   "source": [
    "print (\"tienes calor?\")\n",
    "x=input()\n",
    "y=x.find(\"si\")\n",
    "if y!= -1:\n",
    "    print((\"debes tomar coca fria o una bien muerta\"))\n",
    "elif y==-1:\n",
    "    print((\"no,no tomes nada frio ni se te ocurra hecahrte una bien fria\"))\n"
   ]
  },
  {
   "cell_type": "code",
   "execution_count": 4,
   "metadata": {},
   "outputs": [
    {
     "name": "stdout",
     "output_type": "stream",
     "text": [
      "tienes calor?\n",
      "debes tomar coca fria o una bien muerta\n"
     ]
    }
   ],
   "source": [
    "print (\"tienes calor?\")\n",
    "x=input()\n",
    "\n",
    "if x==\"si\":\n",
    "    print((\"debes tomar coca fria o una bien muerta\"))\n",
    "elif x==\"no\":\n",
    "    print((\"no,no tomes nada frio ni se te ocurra hecahrte una bien fria\"))"
   ]
  },
  {
   "cell_type": "markdown",
   "metadata": {},
   "source": [
    "3. Crea un programa que diga si le alcanza para el camion o no, sabiendo que el camion cuesta 12 pesos "
   ]
  },
  {
   "cell_type": "code",
   "execution_count": 5,
   "metadata": {},
   "outputs": [
    {
     "name": "stdout",
     "output_type": "stream",
     "text": [
      "cuanto dinero tienes\n",
      "no te alcanza para el chato\n"
     ]
    }
   ],
   "source": [
    "print(\"cuanto dinero tienes\")\n",
    "termino = input()\n",
    "if int(termino) <12:\n",
    "    print((\"no te alcanza para el chato\"))\n",
    "elif int(termino)>=12:\n",
    "    print((\"si te alcanza para el chato\"))"
   ]
  },
  {
   "cell_type": "markdown",
   "metadata": {},
   "source": [
    "4. Crea un programa que diga si eres mayor o menor de edad "
   ]
  },
  {
   "cell_type": "code",
   "execution_count": 7,
   "metadata": {},
   "outputs": [
    {
     "name": "stdout",
     "output_type": "stream",
     "text": [
      "cuantos años tienes\n",
      "eres menor de edad\n"
     ]
    }
   ],
   "source": [
    "print(\"cuantos años tienes\")\n",
    "termino = input()\n",
    "if int(termino)<=18:\n",
    "    print((\"eres menor de edad\"))\n",
    "elif int(termino) >=18:\n",
    "    print((\"eres mayor de edad\"))"
   ]
  },
  {
   "cell_type": "markdown",
   "metadata": {},
   "source": [
    "5. Agrega un programa con ifs anidados"
   ]
  },
  {
   "cell_type": "code",
   "execution_count": 14,
   "metadata": {},
   "outputs": [
    {
     "name": "stdout",
     "output_type": "stream",
     "text": [
      "cuanto dolor tienes del 0 al 100\n",
      "no te vas a morir\n"
     ]
    }
   ],
   "source": [
    "print(\"cuanto dolor tienes del 0 al 100\")\n",
    "termino = input()\n",
    "if int(termino)<=50:\n",
    "    print((\"no te vas a morir\"))\n",
    "else:\n",
    "    if int(termino) <100:\n",
    "        print(\" te vas a morir pronto\")\n",
    "    else:\n",
    "        print:\"tal vez no mueras\""
   ]
  }
 ],
 "metadata": {
  "kernelspec": {
   "display_name": "Python 3",
   "language": "python",
   "name": "python3"
  },
  "language_info": {
   "codemirror_mode": {
    "name": "ipython",
    "version": 3
   },
   "file_extension": ".py",
   "mimetype": "text/x-python",
   "name": "python",
   "nbconvert_exporter": "python",
   "pygments_lexer": "ipython3",
   "version": "3.11.3"
  }
 },
 "nbformat": 4,
 "nbformat_minor": 2
}
